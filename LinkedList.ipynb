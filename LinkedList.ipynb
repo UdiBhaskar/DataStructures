{
 "cells": [
  {
   "cell_type": "code",
   "execution_count": 1,
   "metadata": {},
   "outputs": [],
   "source": [
    "class Node:\n",
    "    '''Creating Node Class for LL'''\n",
    "    def __init__(self, data):\n",
    "        self.data = data\n",
    "        self.next = None"
   ]
  },
  {
   "cell_type": "code",
   "execution_count": 9,
   "metadata": {},
   "outputs": [],
   "source": [
    "def takeInput():\n",
    "    '''Takes space seperated List as input and creates LL'''\n",
    "    inputList = [int(ele) for ele in input().split()]\n",
    "    head = None\n",
    "    currentNode = None\n",
    "    for num in inputList:\n",
    "        if num == -1:\n",
    "            break\n",
    "        newNode = Node(num)\n",
    "        if head == None:\n",
    "            head = newNode\n",
    "        if currentNode is not None:\n",
    "            currentNode.next = newNode\n",
    "        currentNode = newNode\n",
    "    return head\n",
    "def printLL(head):\n",
    "    '''prints Linked List'''\n",
    "    curr = head\n",
    "    while curr.next is not None:\n",
    "        print(str(curr.data)+'-->', end=\" \")\n",
    "        curr = curr.next\n",
    "    print(str(curr.data) + '-->', end=\" \")\n",
    "    print('None')"
   ]
  },
  {
   "cell_type": "code",
   "execution_count": 11,
   "metadata": {},
   "outputs": [
    {
     "name": "stdout",
     "output_type": "stream",
     "text": [
      "1 10 34 56 2 67 -1\n",
      "1--> 10--> 34--> 56--> 2--> 67--> None\n"
     ]
    }
   ],
   "source": [
    "head = takeInput()\n",
    "printLL(head)"
   ]
  },
  {
   "cell_type": "code",
   "execution_count": null,
   "metadata": {},
   "outputs": [],
   "source": []
  }
 ],
 "metadata": {
  "kernelspec": {
   "display_name": "Python 3",
   "language": "python",
   "name": "python3"
  },
  "language_info": {
   "codemirror_mode": {
    "name": "ipython",
    "version": 3
   },
   "file_extension": ".py",
   "mimetype": "text/x-python",
   "name": "python",
   "nbconvert_exporter": "python",
   "pygments_lexer": "ipython3",
   "version": "3.7.3"
  }
 },
 "nbformat": 4,
 "nbformat_minor": 2
}
